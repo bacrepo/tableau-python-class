{
 "cells": [
  {
   "cell_type": "code",
   "execution_count": 1,
   "id": "initial_id",
   "metadata": {
    "ExecuteTime": {
     "end_time": "2024-08-28T17:04:11.873471Z",
     "start_time": "2024-08-28T17:04:10.607612Z"
    },
    "collapsed": true
   },
   "outputs": [
    {
     "ename": "NotSignedInError",
     "evalue": "(b'<?xml version=\\'1.0\\' encoding=\\'UTF-8\\'?><tsResponse xmlns=\"http://tableau.com/api\" xmlns:xsi=\"http://www.w3.org/2001/XMLSchema-instance\" xsi:schemaLocation=\"http://tableau.com/api https://help.tableau.com/samples/en-us/rest_api/ts-api_3_23.xsd\"><error code=\"401001\"><summary>Signin Error</summary><detail>The personal access token you provided is invalid.</detail></error></tsResponse>', 'https://www.bac.co.th:8000/api/3.23/auth/signin')",
     "output_type": "error",
     "traceback": [
      "\u001b[1;31m---------------------------------------------------------------------------\u001b[0m",
      "\u001b[1;31mNotSignedInError\u001b[0m                          Traceback (most recent call last)",
      "Cell \u001b[1;32mIn[1], line 16\u001b[0m\n\u001b[0;32m     14\u001b[0m server\u001b[38;5;241m.\u001b[39madd_http_options({\u001b[38;5;124m'\u001b[39m\u001b[38;5;124mverify\u001b[39m\u001b[38;5;124m'\u001b[39m: \u001b[38;5;28;01mFalse\u001b[39;00m})\n\u001b[0;32m     15\u001b[0m server\u001b[38;5;241m.\u001b[39muse_server_version()\n\u001b[1;32m---> 16\u001b[0m server\u001b[38;5;241m.\u001b[39mauth\u001b[38;5;241m.\u001b[39msign_in(tableau_auth)\n",
      "File \u001b[1;32mC:\\Dev\\Miniconda3\\Lib\\site-packages\\tableauserverclient\\server\\endpoint\\endpoint.py:254\u001b[0m, in \u001b[0;36mapi.<locals>._decorator.<locals>.wrapper\u001b[1;34m(self, *args, **kwargs)\u001b[0m\n\u001b[0;32m    251\u001b[0m \u001b[38;5;129m@wraps\u001b[39m(func)\n\u001b[0;32m    252\u001b[0m \u001b[38;5;28;01mdef\u001b[39;00m \u001b[38;5;21mwrapper\u001b[39m(\u001b[38;5;28mself\u001b[39m, \u001b[38;5;241m*\u001b[39margs, \u001b[38;5;241m*\u001b[39m\u001b[38;5;241m*\u001b[39mkwargs):\n\u001b[0;32m    253\u001b[0m     \u001b[38;5;28mself\u001b[39m\u001b[38;5;241m.\u001b[39mparent_srv\u001b[38;5;241m.\u001b[39massert_at_least_version(version, \u001b[38;5;28mself\u001b[39m\u001b[38;5;241m.\u001b[39m\u001b[38;5;18m__class__\u001b[39m\u001b[38;5;241m.\u001b[39m\u001b[38;5;18m__name__\u001b[39m)\n\u001b[1;32m--> 254\u001b[0m     \u001b[38;5;28;01mreturn\u001b[39;00m func(\u001b[38;5;28mself\u001b[39m, \u001b[38;5;241m*\u001b[39margs, \u001b[38;5;241m*\u001b[39m\u001b[38;5;241m*\u001b[39mkwargs)\n",
      "File \u001b[1;32mC:\\Dev\\Miniconda3\\Lib\\site-packages\\tableauserverclient\\server\\endpoint\\auth_endpoint.py:60\u001b[0m, in \u001b[0;36mAuth.sign_in\u001b[1;34m(self, auth_req)\u001b[0m\n\u001b[0;32m     53\u001b[0m     server_response \u001b[38;5;241m=\u001b[39m \u001b[38;5;28mself\u001b[39m\u001b[38;5;241m.\u001b[39mparent_srv\u001b[38;5;241m.\u001b[39msession\u001b[38;5;241m.\u001b[39mpost(\n\u001b[0;32m     54\u001b[0m         server_response\u001b[38;5;241m.\u001b[39mheaders[\u001b[38;5;124m\"\u001b[39m\u001b[38;5;124mLocation\u001b[39m\u001b[38;5;124m\"\u001b[39m],\n\u001b[0;32m     55\u001b[0m         data\u001b[38;5;241m=\u001b[39msignin_req,\n\u001b[0;32m     56\u001b[0m         \u001b[38;5;241m*\u001b[39m\u001b[38;5;241m*\u001b[39m\u001b[38;5;28mself\u001b[39m\u001b[38;5;241m.\u001b[39mparent_srv\u001b[38;5;241m.\u001b[39mhttp_options,\n\u001b[0;32m     57\u001b[0m         allow_redirects\u001b[38;5;241m=\u001b[39m\u001b[38;5;28;01mFalse\u001b[39;00m,\n\u001b[0;32m     58\u001b[0m     )\n\u001b[0;32m     59\u001b[0m \u001b[38;5;28mself\u001b[39m\u001b[38;5;241m.\u001b[39mparent_srv\u001b[38;5;241m.\u001b[39m_namespace\u001b[38;5;241m.\u001b[39mdetect(server_response\u001b[38;5;241m.\u001b[39mcontent)\n\u001b[1;32m---> 60\u001b[0m \u001b[38;5;28mself\u001b[39m\u001b[38;5;241m.\u001b[39m_check_status(server_response, url)\n\u001b[0;32m     61\u001b[0m parsed_response \u001b[38;5;241m=\u001b[39m fromstring(server_response\u001b[38;5;241m.\u001b[39mcontent)\n\u001b[0;32m     62\u001b[0m site_id \u001b[38;5;241m=\u001b[39m parsed_response\u001b[38;5;241m.\u001b[39mfind(\u001b[38;5;124m\"\u001b[39m\u001b[38;5;124m.//t:site\u001b[39m\u001b[38;5;124m\"\u001b[39m, namespaces\u001b[38;5;241m=\u001b[39m\u001b[38;5;28mself\u001b[39m\u001b[38;5;241m.\u001b[39mparent_srv\u001b[38;5;241m.\u001b[39mnamespace)\u001b[38;5;241m.\u001b[39mget(\u001b[38;5;124m\"\u001b[39m\u001b[38;5;124mid\u001b[39m\u001b[38;5;124m\"\u001b[39m, \u001b[38;5;28;01mNone\u001b[39;00m)\n",
      "File \u001b[1;32mC:\\Dev\\Miniconda3\\Lib\\site-packages\\tableauserverclient\\server\\endpoint\\endpoint.py:149\u001b[0m, in \u001b[0;36mEndpoint._check_status\u001b[1;34m(self, server_response, url)\u001b[0m\n\u001b[0;32m    146\u001b[0m \u001b[38;5;28;01mtry\u001b[39;00m:\n\u001b[0;32m    147\u001b[0m     \u001b[38;5;28;01mif\u001b[39;00m server_response\u001b[38;5;241m.\u001b[39mstatus_code \u001b[38;5;241m==\u001b[39m \u001b[38;5;241m401\u001b[39m:\n\u001b[0;32m    148\u001b[0m         \u001b[38;5;66;03m# TODO: catch this in server.py and attempt to sign in again, in case it's a session expiry\u001b[39;00m\n\u001b[1;32m--> 149\u001b[0m         \u001b[38;5;28;01mraise\u001b[39;00m NotSignedInError(server_response\u001b[38;5;241m.\u001b[39mcontent, url)\n\u001b[0;32m    151\u001b[0m     \u001b[38;5;28;01mraise\u001b[39;00m ServerResponseError\u001b[38;5;241m.\u001b[39mfrom_response(server_response\u001b[38;5;241m.\u001b[39mcontent, \u001b[38;5;28mself\u001b[39m\u001b[38;5;241m.\u001b[39mparent_srv\u001b[38;5;241m.\u001b[39mnamespace, url)\n\u001b[0;32m    152\u001b[0m \u001b[38;5;28;01mexcept\u001b[39;00m ParseError:\n\u001b[0;32m    153\u001b[0m     \u001b[38;5;66;03m# This will happen if we get a non-success HTTP code that doesn't return an xml error object\u001b[39;00m\n\u001b[0;32m    154\u001b[0m     \u001b[38;5;66;03m# e.g. metadata endpoints, 503 pages, totally different servers\u001b[39;00m\n\u001b[0;32m    155\u001b[0m     \u001b[38;5;66;03m# we convert this to a better exception and pass through the raw response body\u001b[39;00m\n",
      "\u001b[1;31mNotSignedInError\u001b[0m: (b'<?xml version=\\'1.0\\' encoding=\\'UTF-8\\'?><tsResponse xmlns=\"http://tableau.com/api\" xmlns:xsi=\"http://www.w3.org/2001/XMLSchema-instance\" xsi:schemaLocation=\"http://tableau.com/api https://help.tableau.com/samples/en-us/rest_api/ts-api_3_23.xsd\"><error code=\"401001\"><summary>Signin Error</summary><detail>The personal access token you provided is invalid.</detail></error></tsResponse>', 'https://www.bac.co.th:8000/api/3.23/auth/signin')"
     ]
    }
   ],
   "source": [
    "import tableauserverclient as TSC\n",
    "import urllib3\n",
    "urllib3.disable_warnings()\n",
    "\n",
    "# Config for Tableau Server\n",
    "tableau_server = 'https://10ax.online.tableau.com'\n",
    "tableau_site_id = ''\n",
    "token_name = ''\n",
    "personal_access_token = ''\n",
    "\n",
    "# Authentication\n",
    "tableau_auth = TSC.PersonalAccessTokenAuth(token_name, personal_access_token, site_id=tableau_site_id)\n",
    "server = TSC.Server(tableau_server)\n",
    "server.add_http_options({'verify': False})\n",
    "server.use_server_version()\n",
    "server.auth.sign_in(tableau_auth)"
   ]
  }
 ],
 "metadata": {
  "kernelspec": {
   "display_name": "Python 3",
   "language": "python",
   "name": "python3"
  },
  "language_info": {
   "codemirror_mode": {
    "name": "ipython",
    "version": 2
   },
   "file_extension": ".py",
   "mimetype": "text/x-python",
   "name": "python",
   "nbconvert_exporter": "python",
   "pygments_lexer": "ipython2",
   "version": "2.7.6"
  }
 },
 "nbformat": 4,
 "nbformat_minor": 5
}
