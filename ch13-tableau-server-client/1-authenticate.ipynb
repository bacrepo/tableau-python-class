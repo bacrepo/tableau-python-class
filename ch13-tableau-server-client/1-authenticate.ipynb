{
 "cells": [
  {
   "cell_type": "code",
   "id": "initial_id",
   "metadata": {
    "collapsed": true,
    "ExecuteTime": {
     "end_time": "2024-08-28T17:04:11.873471Z",
     "start_time": "2024-08-28T17:04:10.607612Z"
    }
   },
   "source": [
    "import tableauserverclient as TSC\n",
    "import urllib3\n",
    "urllib3.disable_warnings()\n",
    "\n",
    "# Config for Tableau Server\n",
    "tableau_server = 'https://www.bac.co.th:8000'\n",
    "tableau_site_id = 'demoapi'\n",
    "token_name = 'admin-dev'\n",
    "personal_access_token = 'K79UQ5lHQkO/4TaGL0fdsQ==:g59LY5bArMypHYfhp1X5mp831177F90w'\n",
    "\n",
    "# Authentication\n",
    "tableau_auth = TSC.PersonalAccessTokenAuth(token_name, personal_access_token, site_id=tableau_site_id)\n",
    "server = TSC.Server(tableau_server)\n",
    "server.add_http_options({'verify': False})\n",
    "server.use_server_version()\n",
    "server.auth.sign_in(tableau_auth)"
   ],
   "outputs": [
    {
     "ename": "NotSignedInError",
     "evalue": "(b'<?xml version=\\'1.0\\' encoding=\\'UTF-8\\'?><tsResponse xmlns=\"http://tableau.com/api\" xmlns:xsi=\"http://www.w3.org/2001/XMLSchema-instance\" xsi:schemaLocation=\"http://tableau.com/api https://help.tableau.com/samples/en-us/rest_api/ts-api_3_23.xsd\"><error code=\"401001\"><summary>Signin Error</summary><detail>The personal access token you provided is invalid.</detail></error></tsResponse>', 'https://www.bac.co.th:8000/api/3.23/auth/signin')",
     "output_type": "error",
     "traceback": [
      "\u001B[1;31m---------------------------------------------------------------------------\u001B[0m",
      "\u001B[1;31mNotSignedInError\u001B[0m                          Traceback (most recent call last)",
      "Cell \u001B[1;32mIn[1], line 16\u001B[0m\n\u001B[0;32m     14\u001B[0m server\u001B[38;5;241m.\u001B[39madd_http_options({\u001B[38;5;124m'\u001B[39m\u001B[38;5;124mverify\u001B[39m\u001B[38;5;124m'\u001B[39m: \u001B[38;5;28;01mFalse\u001B[39;00m})\n\u001B[0;32m     15\u001B[0m server\u001B[38;5;241m.\u001B[39muse_server_version()\n\u001B[1;32m---> 16\u001B[0m server\u001B[38;5;241m.\u001B[39mauth\u001B[38;5;241m.\u001B[39msign_in(tableau_auth)\n",
      "File \u001B[1;32mC:\\Dev\\Miniconda3\\Lib\\site-packages\\tableauserverclient\\server\\endpoint\\endpoint.py:254\u001B[0m, in \u001B[0;36mapi.<locals>._decorator.<locals>.wrapper\u001B[1;34m(self, *args, **kwargs)\u001B[0m\n\u001B[0;32m    251\u001B[0m \u001B[38;5;129m@wraps\u001B[39m(func)\n\u001B[0;32m    252\u001B[0m \u001B[38;5;28;01mdef\u001B[39;00m \u001B[38;5;21mwrapper\u001B[39m(\u001B[38;5;28mself\u001B[39m, \u001B[38;5;241m*\u001B[39margs, \u001B[38;5;241m*\u001B[39m\u001B[38;5;241m*\u001B[39mkwargs):\n\u001B[0;32m    253\u001B[0m     \u001B[38;5;28mself\u001B[39m\u001B[38;5;241m.\u001B[39mparent_srv\u001B[38;5;241m.\u001B[39massert_at_least_version(version, \u001B[38;5;28mself\u001B[39m\u001B[38;5;241m.\u001B[39m\u001B[38;5;18m__class__\u001B[39m\u001B[38;5;241m.\u001B[39m\u001B[38;5;18m__name__\u001B[39m)\n\u001B[1;32m--> 254\u001B[0m     \u001B[38;5;28;01mreturn\u001B[39;00m func(\u001B[38;5;28mself\u001B[39m, \u001B[38;5;241m*\u001B[39margs, \u001B[38;5;241m*\u001B[39m\u001B[38;5;241m*\u001B[39mkwargs)\n",
      "File \u001B[1;32mC:\\Dev\\Miniconda3\\Lib\\site-packages\\tableauserverclient\\server\\endpoint\\auth_endpoint.py:60\u001B[0m, in \u001B[0;36mAuth.sign_in\u001B[1;34m(self, auth_req)\u001B[0m\n\u001B[0;32m     53\u001B[0m     server_response \u001B[38;5;241m=\u001B[39m \u001B[38;5;28mself\u001B[39m\u001B[38;5;241m.\u001B[39mparent_srv\u001B[38;5;241m.\u001B[39msession\u001B[38;5;241m.\u001B[39mpost(\n\u001B[0;32m     54\u001B[0m         server_response\u001B[38;5;241m.\u001B[39mheaders[\u001B[38;5;124m\"\u001B[39m\u001B[38;5;124mLocation\u001B[39m\u001B[38;5;124m\"\u001B[39m],\n\u001B[0;32m     55\u001B[0m         data\u001B[38;5;241m=\u001B[39msignin_req,\n\u001B[0;32m     56\u001B[0m         \u001B[38;5;241m*\u001B[39m\u001B[38;5;241m*\u001B[39m\u001B[38;5;28mself\u001B[39m\u001B[38;5;241m.\u001B[39mparent_srv\u001B[38;5;241m.\u001B[39mhttp_options,\n\u001B[0;32m     57\u001B[0m         allow_redirects\u001B[38;5;241m=\u001B[39m\u001B[38;5;28;01mFalse\u001B[39;00m,\n\u001B[0;32m     58\u001B[0m     )\n\u001B[0;32m     59\u001B[0m \u001B[38;5;28mself\u001B[39m\u001B[38;5;241m.\u001B[39mparent_srv\u001B[38;5;241m.\u001B[39m_namespace\u001B[38;5;241m.\u001B[39mdetect(server_response\u001B[38;5;241m.\u001B[39mcontent)\n\u001B[1;32m---> 60\u001B[0m \u001B[38;5;28mself\u001B[39m\u001B[38;5;241m.\u001B[39m_check_status(server_response, url)\n\u001B[0;32m     61\u001B[0m parsed_response \u001B[38;5;241m=\u001B[39m fromstring(server_response\u001B[38;5;241m.\u001B[39mcontent)\n\u001B[0;32m     62\u001B[0m site_id \u001B[38;5;241m=\u001B[39m parsed_response\u001B[38;5;241m.\u001B[39mfind(\u001B[38;5;124m\"\u001B[39m\u001B[38;5;124m.//t:site\u001B[39m\u001B[38;5;124m\"\u001B[39m, namespaces\u001B[38;5;241m=\u001B[39m\u001B[38;5;28mself\u001B[39m\u001B[38;5;241m.\u001B[39mparent_srv\u001B[38;5;241m.\u001B[39mnamespace)\u001B[38;5;241m.\u001B[39mget(\u001B[38;5;124m\"\u001B[39m\u001B[38;5;124mid\u001B[39m\u001B[38;5;124m\"\u001B[39m, \u001B[38;5;28;01mNone\u001B[39;00m)\n",
      "File \u001B[1;32mC:\\Dev\\Miniconda3\\Lib\\site-packages\\tableauserverclient\\server\\endpoint\\endpoint.py:149\u001B[0m, in \u001B[0;36mEndpoint._check_status\u001B[1;34m(self, server_response, url)\u001B[0m\n\u001B[0;32m    146\u001B[0m \u001B[38;5;28;01mtry\u001B[39;00m:\n\u001B[0;32m    147\u001B[0m     \u001B[38;5;28;01mif\u001B[39;00m server_response\u001B[38;5;241m.\u001B[39mstatus_code \u001B[38;5;241m==\u001B[39m \u001B[38;5;241m401\u001B[39m:\n\u001B[0;32m    148\u001B[0m         \u001B[38;5;66;03m# TODO: catch this in server.py and attempt to sign in again, in case it's a session expiry\u001B[39;00m\n\u001B[1;32m--> 149\u001B[0m         \u001B[38;5;28;01mraise\u001B[39;00m NotSignedInError(server_response\u001B[38;5;241m.\u001B[39mcontent, url)\n\u001B[0;32m    151\u001B[0m     \u001B[38;5;28;01mraise\u001B[39;00m ServerResponseError\u001B[38;5;241m.\u001B[39mfrom_response(server_response\u001B[38;5;241m.\u001B[39mcontent, \u001B[38;5;28mself\u001B[39m\u001B[38;5;241m.\u001B[39mparent_srv\u001B[38;5;241m.\u001B[39mnamespace, url)\n\u001B[0;32m    152\u001B[0m \u001B[38;5;28;01mexcept\u001B[39;00m ParseError:\n\u001B[0;32m    153\u001B[0m     \u001B[38;5;66;03m# This will happen if we get a non-success HTTP code that doesn't return an xml error object\u001B[39;00m\n\u001B[0;32m    154\u001B[0m     \u001B[38;5;66;03m# e.g. metadata endpoints, 503 pages, totally different servers\u001B[39;00m\n\u001B[0;32m    155\u001B[0m     \u001B[38;5;66;03m# we convert this to a better exception and pass through the raw response body\u001B[39;00m\n",
      "\u001B[1;31mNotSignedInError\u001B[0m: (b'<?xml version=\\'1.0\\' encoding=\\'UTF-8\\'?><tsResponse xmlns=\"http://tableau.com/api\" xmlns:xsi=\"http://www.w3.org/2001/XMLSchema-instance\" xsi:schemaLocation=\"http://tableau.com/api https://help.tableau.com/samples/en-us/rest_api/ts-api_3_23.xsd\"><error code=\"401001\"><summary>Signin Error</summary><detail>The personal access token you provided is invalid.</detail></error></tsResponse>', 'https://www.bac.co.th:8000/api/3.23/auth/signin')"
     ]
    }
   ],
   "execution_count": 1
  }
 ],
 "metadata": {
  "kernelspec": {
   "display_name": "Python 3",
   "language": "python",
   "name": "python3"
  },
  "language_info": {
   "codemirror_mode": {
    "name": "ipython",
    "version": 2
   },
   "file_extension": ".py",
   "mimetype": "text/x-python",
   "name": "python",
   "nbconvert_exporter": "python",
   "pygments_lexer": "ipython2",
   "version": "2.7.6"
  }
 },
 "nbformat": 4,
 "nbformat_minor": 5
}
