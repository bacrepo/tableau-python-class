{
 "cells": [
  {
   "cell_type": "code",
   "id": "initial_id",
   "metadata": {
    "collapsed": true
   },
   "source": [
    "import tableauserverclient as TSC\n",
    "import urllib3\n",
    "urllib3.disable_warnings()\n",
    "\n",
    "# Config for Tableau Server / Tableau Cloud\n",
    "tableau_server = 'prod-apnortheast-a.online.tableau.com'\n",
    "tableau_site_id = ''\n",
    "token_name = ''\n",
    "personal_access_token = ''\n",
    "\n",
    "# Authentication\n",
    "tableau_auth = TSC.PersonalAccessTokenAuth(token_name, personal_access_token, site_id=tableau_site_id)\n",
    "server = TSC.Server(tableau_server)\n",
    "server.add_http_options({'verify': False})\n",
    "server.use_server_version()\n",
    "server.auth.sign_in(tableau_auth)"
   ],
   "outputs": [],
   "execution_count": null
  }
 ],
 "metadata": {
  "kernelspec": {
   "display_name": "Python 3",
   "language": "python",
   "name": "python3"
  },
  "language_info": {
   "codemirror_mode": {
    "name": "ipython",
    "version": 2
   },
   "file_extension": ".py",
   "mimetype": "text/x-python",
   "name": "python",
   "nbconvert_exporter": "python",
   "pygments_lexer": "ipython2",
   "version": "2.7.6"
  }
 },
 "nbformat": 4,
 "nbformat_minor": 5
}
