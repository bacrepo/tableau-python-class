{
 "cells": [
  {
   "cell_type": "code",
   "execution_count": null,
   "id": "initial_id",
   "metadata": {
    "collapsed": true
   },
   "outputs": [],
   "source": [
    "import tableauserverclient as TSC\n",
    "import urllib3\n",
    "\n",
    "urllib3.disable_warnings()\n",
    "\n",
    "# Config for Tableau Server / Tableau Cloud\n",
    "tableau_server = 'prod-apnortheast-a.online.tableau.com'\n",
    "tableau_site_id = ''\n",
    "token_name = ''\n",
    "personal_access_token = ''\n",
    "\n",
    "# Authentication\n",
    "tableau_auth = TSC.PersonalAccessTokenAuth(token_name, personal_access_token, site_id=tableau_site_id)\n",
    "server = TSC.Server(tableau_server)\n",
    "server.add_http_options({'verify': False})\n",
    "server.use_server_version()\n",
    "server.auth.sign_in(tableau_auth)"
   ]
  },
  {
   "metadata": {},
   "cell_type": "code",
   "outputs": [],
   "execution_count": null,
   "source": [
    "# List all groups\n",
    "all_groups, pagination_item = server.groups.get()\n",
    "print(\"Groups on Tableau Server:\")\n",
    "for group in all_groups:\n",
    "    print(f\"- {group.name}\")"
   ],
   "id": "6c2184a7655ed7d9"
  },
  {
   "metadata": {},
   "cell_type": "code",
   "outputs": [],
   "execution_count": null,
   "source": [
    "# Create Group 1\n",
    "group1 = TSC.GroupItem('Group 1')\n",
    "server.groups.create(group1)\n",
    "print(\"Group 'Group 1' created.\")\n",
    "\n",
    "# Create Group 2\n",
    "group2 = TSC.GroupItem('Group 2')\n",
    "server.groups.create(group2)\n",
    "print(\"Group 'Group 2' created.\")"
   ],
   "id": "6f415cfe59baf7ac"
  },
  {
   "metadata": {},
   "cell_type": "code",
   "outputs": [],
   "execution_count": null,
   "source": [
    "# Delete Group 1\n",
    "group_to_delete = next((group for group in all_groups if group.name == 'Group 1'), None)\n",
    "if group_to_delete:\n",
    "    server.groups.delete(group_to_delete.id)\n",
    "    print(\"Group deleted.\")\n",
    "else:\n",
    "    print(\"Group not found.\")"
   ],
   "id": "2791a8a9d085d7fc"
  },
  {
   "metadata": {},
   "cell_type": "code",
   "outputs": [],
   "execution_count": null,
   "source": [
    "# List all groups after deletion\n",
    "all_groups, pagination_item = server.groups.get()\n",
    "print(\"Groups on Tableau Server after deletion:\")\n",
    "for group in all_groups:\n",
    "    print(f\"- {group.name}\")"
   ],
   "id": "1311fc133220408d"
  },
  {
   "metadata": {},
   "cell_type": "code",
   "outputs": [],
   "execution_count": null,
   "source": [
    "# Sign out from Tableau Server\n",
    "server.auth.sign_out()"
   ],
   "id": "26d8fa53675866f3"
  }
 ],
 "metadata": {
  "kernelspec": {
   "display_name": "Python 3",
   "language": "python",
   "name": "python3"
  },
  "language_info": {
   "codemirror_mode": {
    "name": "ipython",
    "version": 2
   },
   "file_extension": ".py",
   "mimetype": "text/x-python",
   "name": "python",
   "nbconvert_exporter": "python",
   "pygments_lexer": "ipython2",
   "version": "2.7.6"
  }
 },
 "nbformat": 4,
 "nbformat_minor": 5
}
