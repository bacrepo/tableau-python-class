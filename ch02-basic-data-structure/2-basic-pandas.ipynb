{
 "cells": [
  {
   "metadata": {},
   "cell_type": "markdown",
   "source": "## 1) pandas from numpy",
   "id": "f3829f1c994991a"
  },
  {
   "metadata": {
    "ExecuteTime": {
     "end_time": "2024-08-22T09:57:17.058983Z",
     "start_time": "2024-08-22T09:57:17.053521Z"
    }
   },
   "cell_type": "code",
   "source": [
    "import numpy as np\n",
    "import pandas as pd\n",
    "\n",
    "a = [1, 2, 3, 4, 5]\n",
    "b = [5, 4, 3, 2, 1]\n",
    "\n",
    "c = np.array([a,b])\n",
    "c = c.transpose()\n",
    "\n",
    "d = pd.DataFrame(c, columns=['a','b'])\n",
    "print(d)"
   ],
   "id": "ee60d6538c9ab4d7",
   "outputs": [
    {
     "name": "stdout",
     "output_type": "stream",
     "text": [
      "   a  b\n",
      "0  1  5\n",
      "1  2  4\n",
      "2  3  3\n",
      "3  4  2\n",
      "4  5  1\n"
     ]
    }
   ],
   "execution_count": 9
  },
  {
   "metadata": {},
   "cell_type": "markdown",
   "source": "## 2) pandas from List of Data",
   "id": "689504dc0c176679"
  },
  {
   "metadata": {
    "ExecuteTime": {
     "end_time": "2024-08-22T09:57:17.162538Z",
     "start_time": "2024-08-22T09:57:17.151133Z"
    }
   },
   "cell_type": "code",
   "source": [
    "import pandas as pd\n",
    "\n",
    "a = [1, 2, 3, 4, 5]\n",
    "b = [5, 4, 3, 2, 1]\n",
    "m = [3, 2, 1, 2, 3]\n",
    "\n",
    "c = list(zip(a,b,m))\n",
    "\n",
    "d = pd.DataFrame(c, columns=['a','b','m'])\n",
    "print(d)"
   ],
   "id": "843d66d940ecb0aa",
   "outputs": [
    {
     "name": "stdout",
     "output_type": "stream",
     "text": [
      "   a  b  m\n",
      "0  1  5  3\n",
      "1  2  4  2\n",
      "2  3  3  1\n",
      "3  4  2  2\n",
      "4  5  1  3\n"
     ]
    }
   ],
   "execution_count": 10
  },
  {
   "metadata": {},
   "cell_type": "markdown",
   "source": "## 3) pandas and data columns",
   "id": "e76618a36988a042"
  },
  {
   "metadata": {
    "ExecuteTime": {
     "end_time": "2024-08-22T09:57:17.181647Z",
     "start_time": "2024-08-22T09:57:17.176774Z"
    }
   },
   "cell_type": "code",
   "source": [
    "import pandas as pd\n",
    "\n",
    "a = [1, 2, 3, 4, 5]\n",
    "b = [5, 4, 3, 2, 1]\n",
    "m = [3, 2, 1, 2, 3]\n",
    "c = list(zip(a,b,m))\n",
    "\n",
    "df = pd.DataFrame(c, columns=['unitprice','quantity','totalcost'])\n",
    "print(df)"
   ],
   "id": "c424fd526ba581db",
   "outputs": [
    {
     "name": "stdout",
     "output_type": "stream",
     "text": [
      "   unitprice  quantity  totalcost\n",
      "0          1         5          3\n",
      "1          2         4          2\n",
      "2          3         3          1\n",
      "3          4         2          2\n",
      "4          5         1          3\n"
     ]
    }
   ],
   "execution_count": 11
  },
  {
   "metadata": {},
   "cell_type": "markdown",
   "source": "## 4) pandas operation",
   "id": "c536dc667111055"
  },
  {
   "metadata": {
    "ExecuteTime": {
     "end_time": "2024-08-22T09:57:17.204099Z",
     "start_time": "2024-08-22T09:57:17.196412Z"
    }
   },
   "cell_type": "code",
   "source": [
    "import pandas as pd\n",
    "\n",
    "a = [1, 2, 3, 4, 5]\n",
    "b = [5, 4, 3, 2, 1]\n",
    "m = [3, 2, 1, 2, 3]\n",
    "c = list(zip(a,b,m))\n",
    "\n",
    "df = pd.DataFrame(c, columns=['unitprice','quantity','totalcost'])\n",
    "print(df)\n",
    "df['revenue'] = df['unitprice'] * df['quantity']\n",
    "print(df)\n",
    "df['profit'] = df['revenue'] - df['totalcost']\n",
    "print(df)"
   ],
   "id": "2fbe09462f58d2e3",
   "outputs": [
    {
     "name": "stdout",
     "output_type": "stream",
     "text": [
      "   unitprice  quantity  totalcost\n",
      "0          1         5          3\n",
      "1          2         4          2\n",
      "2          3         3          1\n",
      "3          4         2          2\n",
      "4          5         1          3\n",
      "   unitprice  quantity  totalcost  revenue\n",
      "0          1         5          3        5\n",
      "1          2         4          2        8\n",
      "2          3         3          1        9\n",
      "3          4         2          2        8\n",
      "4          5         1          3        5\n",
      "   unitprice  quantity  totalcost  revenue  profit\n",
      "0          1         5          3        5       2\n",
      "1          2         4          2        8       6\n",
      "2          3         3          1        9       8\n",
      "3          4         2          2        8       6\n",
      "4          5         1          3        5       2\n"
     ]
    }
   ],
   "execution_count": 12
  },
  {
   "metadata": {
    "ExecuteTime": {
     "end_time": "2024-08-22T09:57:17.216786Z",
     "start_time": "2024-08-22T09:57:17.213727Z"
    }
   },
   "cell_type": "code",
   "source": "",
   "id": "662e62380fba5996",
   "outputs": [],
   "execution_count": null
  }
 ],
 "metadata": {
  "kernelspec": {
   "display_name": "Python 3",
   "language": "python",
   "name": "python3"
  },
  "language_info": {
   "codemirror_mode": {
    "name": "ipython",
    "version": 2
   },
   "file_extension": ".py",
   "mimetype": "text/x-python",
   "name": "python",
   "nbconvert_exporter": "python",
   "pygments_lexer": "ipython2",
   "version": "2.7.6"
  }
 },
 "nbformat": 4,
 "nbformat_minor": 5
}
