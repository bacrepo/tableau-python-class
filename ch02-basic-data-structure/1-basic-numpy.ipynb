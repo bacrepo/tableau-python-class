{
 "cells": [
  {
   "metadata": {},
   "cell_type": "markdown",
   "source": "## 1) Basic List",
   "id": "d7e243d846723723"
  },
  {
   "cell_type": "code",
   "id": "initial_id",
   "metadata": {
    "collapsed": true,
    "ExecuteTime": {
     "end_time": "2024-08-22T09:57:14.671669Z",
     "start_time": "2024-08-22T09:57:14.667347Z"
    }
   },
   "source": [
    "a = [ 1 , 2 , 3 , 4 , 5 ]\n",
    "print(a)"
   ],
   "outputs": [
    {
     "name": "stdout",
     "output_type": "stream",
     "text": [
      "[1, 2, 3, 4, 5]\n"
     ]
    }
   ],
   "execution_count": 15
  },
  {
   "metadata": {},
   "cell_type": "markdown",
   "source": "## 2) Basic Numpy",
   "id": "4d80e0e659828088"
  },
  {
   "metadata": {
    "ExecuteTime": {
     "end_time": "2024-08-22T09:57:14.757592Z",
     "start_time": "2024-08-22T09:57:14.754316Z"
    }
   },
   "cell_type": "code",
   "source": [
    "import numpy as np\n",
    "\n",
    "a = [ 1 , 2 , 3 , 4 , 5 ]\n",
    "print(a)\n",
    "\n",
    "b = np.array(a)\n",
    "print(b)\n"
   ],
   "id": "d2aca8c5043f6690",
   "outputs": [
    {
     "name": "stdout",
     "output_type": "stream",
     "text": [
      "[1, 2, 3, 4, 5]\n",
      "[1 2 3 4 5]\n"
     ]
    }
   ],
   "execution_count": 16
  },
  {
   "metadata": {},
   "cell_type": "markdown",
   "source": "## 3) Basic Data Operation",
   "id": "7252b14599598323"
  },
  {
   "metadata": {
    "ExecuteTime": {
     "end_time": "2024-08-22T09:57:14.867902Z",
     "start_time": "2024-08-22T09:57:14.859867Z"
    }
   },
   "cell_type": "code",
   "source": [
    "import numpy as np\n",
    "\n",
    "a = [ 1 , 2 , 3 , 4 , 5 ]\n",
    "print(a)\n",
    "\n",
    "a1 = []\n",
    "for item in a:\n",
    "    a1.append(item+1)\n",
    "\n",
    "print(a1)"
   ],
   "id": "f476a69f0141c720",
   "outputs": [
    {
     "name": "stdout",
     "output_type": "stream",
     "text": [
      "[1, 2, 3, 4, 5]\n",
      "[2, 3, 4, 5, 6]\n"
     ]
    }
   ],
   "execution_count": 17
  },
  {
   "metadata": {
    "ExecuteTime": {
     "end_time": "2024-08-22T09:57:14.883518Z",
     "start_time": "2024-08-22T09:57:14.879908Z"
    }
   },
   "cell_type": "code",
   "source": [
    "b = np.array(a)\n",
    "print(b)\n",
    "print(b+1)"
   ],
   "id": "41917be5ce4677ef",
   "outputs": [
    {
     "name": "stdout",
     "output_type": "stream",
     "text": [
      "[1 2 3 4 5]\n",
      "[2 3 4 5 6]\n"
     ]
    }
   ],
   "execution_count": 18
  },
  {
   "metadata": {},
   "cell_type": "markdown",
   "source": "## 4) Basic Data Operation 2",
   "id": "17f4a44f1ab2f3d9"
  },
  {
   "metadata": {
    "ExecuteTime": {
     "end_time": "2024-08-22T09:57:14.907166Z",
     "start_time": "2024-08-22T09:57:14.902984Z"
    }
   },
   "cell_type": "code",
   "source": [
    "import numpy as np\n",
    "\n",
    "a = [ 1 , 2 , 3 , 4 , 5 ]\n",
    "\n",
    "b = np.array(a)\n",
    "d = np.array([ 5 , 4 , 3 , 2 , 1 ])\n",
    "\n",
    "print(b)\n",
    "print(d)\n",
    "print(b+d)"
   ],
   "id": "c3bbac30e09def0d",
   "outputs": [
    {
     "name": "stdout",
     "output_type": "stream",
     "text": [
      "[1 2 3 4 5]\n",
      "[5 4 3 2 1]\n",
      "[6 6 6 6 6]\n"
     ]
    }
   ],
   "execution_count": 19
  },
  {
   "metadata": {},
   "cell_type": "markdown",
   "source": "## 5) 2D-Array",
   "id": "933417f7b4cb2fb4"
  },
  {
   "metadata": {
    "ExecuteTime": {
     "end_time": "2024-08-22T09:57:14.921527Z",
     "start_time": "2024-08-22T09:57:14.918057Z"
    }
   },
   "cell_type": "code",
   "source": [
    "import numpy as np\n",
    "\n",
    "a = [1, 2, 3, 4, 5]\n",
    "b = [5, 4, 3, 2, 1]\n",
    "c = np.array([a,b])\n",
    "\n",
    "print(c)\n",
    "print(c[0]+c[1])\n",
    "print(c[0]*c[1])"
   ],
   "id": "52a9059291b62c5c",
   "outputs": [
    {
     "name": "stdout",
     "output_type": "stream",
     "text": [
      "[[1 2 3 4 5]\n",
      " [5 4 3 2 1]]\n",
      "[6 6 6 6 6]\n",
      "[5 8 9 8 5]\n"
     ]
    }
   ],
   "execution_count": 20
  },
  {
   "metadata": {},
   "cell_type": "markdown",
   "source": "## 6) 2D Array Transpose",
   "id": "8e427d35c4cb59e2"
  },
  {
   "metadata": {
    "ExecuteTime": {
     "end_time": "2024-08-22T09:57:14.943600Z",
     "start_time": "2024-08-22T09:57:14.940300Z"
    }
   },
   "cell_type": "code",
   "source": [
    "import numpy as np\n",
    "\n",
    "a = [1, 2, 3, 4, 5]\n",
    "b = [5, 4, 3, 2, 1]\n",
    "\n",
    "c = np.array([a,b])\n",
    "print(c)\n",
    "print(c.transpose())"
   ],
   "id": "b3d32b0184d15b26",
   "outputs": [
    {
     "name": "stdout",
     "output_type": "stream",
     "text": [
      "[[1 2 3 4 5]\n",
      " [5 4 3 2 1]]\n",
      "[[1 5]\n",
      " [2 4]\n",
      " [3 3]\n",
      " [4 2]\n",
      " [5 1]]\n"
     ]
    }
   ],
   "execution_count": 21
  }
 ],
 "metadata": {
  "kernelspec": {
   "display_name": "Python 3",
   "language": "python",
   "name": "python3"
  },
  "language_info": {
   "codemirror_mode": {
    "name": "ipython",
    "version": 2
   },
   "file_extension": ".py",
   "mimetype": "text/x-python",
   "name": "python",
   "nbconvert_exporter": "python",
   "pygments_lexer": "ipython2",
   "version": "2.7.6"
  }
 },
 "nbformat": 4,
 "nbformat_minor": 5
}
