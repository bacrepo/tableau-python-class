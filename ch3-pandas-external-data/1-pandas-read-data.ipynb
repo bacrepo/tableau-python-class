{
 "cells": [
  {
   "metadata": {},
   "cell_type": "markdown",
   "source": "## 1) Pandas read CSV",
   "id": "b9be10191d75a559"
  },
  {
   "metadata": {
    "ExecuteTime": {
     "end_time": "2024-08-20T08:54:47.979832Z",
     "start_time": "2024-08-20T08:54:47.974169Z"
    }
   },
   "cell_type": "code",
   "source": [
    "import pandas as pd\n",
    "df = pd.read_csv(\"demo.csv\")\n",
    "print(df)"
   ],
   "id": "580adb8a49c92a3a",
   "outputs": [
    {
     "name": "stdout",
     "output_type": "stream",
     "text": [
      "  product  revenue  cost\n",
      "0       A       10     7\n",
      "1       B       20    15\n",
      "2       C       30    24\n",
      "3       D       40    34\n",
      "4       E       50    45\n"
     ]
    }
   ],
   "execution_count": 17
  },
  {
   "metadata": {},
   "cell_type": "markdown",
   "source": "## 2) Pandas read Excel",
   "id": "420c1f14dc268891"
  },
  {
   "metadata": {
    "ExecuteTime": {
     "end_time": "2024-08-20T08:54:48.076489Z",
     "start_time": "2024-08-20T08:54:48.067405Z"
    }
   },
   "cell_type": "code",
   "source": [
    "import pandas as pd\n",
    "df = pd.read_excel(\"demo.xlsx\", sheet_name=\"Sheet1\")\n",
    "print(df)"
   ],
   "id": "2412b61c31cc8563",
   "outputs": [
    {
     "name": "stdout",
     "output_type": "stream",
     "text": [
      "  product  revenue  cost\n",
      "0       A       10     7\n",
      "1       B       20    15\n",
      "2       C       30    24\n",
      "3       D       40    34\n",
      "4       E       50    45\n"
     ]
    }
   ],
   "execution_count": 18
  },
  {
   "metadata": {
    "ExecuteTime": {
     "end_time": "2024-08-20T08:54:48.187116Z",
     "start_time": "2024-08-20T08:54:48.182097Z"
    }
   },
   "cell_type": "code",
   "source": [
    "df['profit'] = df['revenue'] - df['cost']\n",
    "print(df)"
   ],
   "id": "2fb65ca7d0f44fe9",
   "outputs": [
    {
     "name": "stdout",
     "output_type": "stream",
     "text": [
      "  product  revenue  cost  profit\n",
      "0       A       10     7       3\n",
      "1       B       20    15       5\n",
      "2       C       30    24       6\n",
      "3       D       40    34       6\n",
      "4       E       50    45       5\n"
     ]
    }
   ],
   "execution_count": 19
  },
  {
   "metadata": {},
   "cell_type": "markdown",
   "source": "## 3) Pandas read Excel (again)",
   "id": "444a3037fdf85449"
  },
  {
   "metadata": {
    "ExecuteTime": {
     "end_time": "2024-08-20T08:54:48.276479Z",
     "start_time": "2024-08-20T08:54:48.266402Z"
    }
   },
   "cell_type": "code",
   "source": [
    "import pandas as pd\n",
    "df = pd.read_excel(\"sales.xlsx\", sheet_name=\"Sheet1\")\n",
    "print(df)"
   ],
   "id": "3ae93c4641286e5f",
   "outputs": [
    {
     "name": "stdout",
     "output_type": "stream",
     "text": [
      "  product_group product  revenue  cost\n",
      "0        Group1       A       10     7\n",
      "1        Group1       B       20    15\n",
      "2        Group1       C       30    24\n",
      "3        Group2       D       40    34\n",
      "4        Group2       E       50    45\n"
     ]
    }
   ],
   "execution_count": 20
  },
  {
   "metadata": {
    "ExecuteTime": {
     "end_time": "2024-08-20T08:54:48.305025Z",
     "start_time": "2024-08-20T08:54:48.298665Z"
    }
   },
   "cell_type": "code",
   "source": [
    "df['profit'] = df['revenue'] - df['cost']\n",
    "print(df)"
   ],
   "id": "feff5418a62017d0",
   "outputs": [
    {
     "name": "stdout",
     "output_type": "stream",
     "text": [
      "  product_group product  revenue  cost  profit\n",
      "0        Group1       A       10     7       3\n",
      "1        Group1       B       20    15       5\n",
      "2        Group1       C       30    24       6\n",
      "3        Group2       D       40    34       6\n",
      "4        Group2       E       50    45       5\n"
     ]
    }
   ],
   "execution_count": 21
  }
 ],
 "metadata": {
  "kernelspec": {
   "display_name": "Python 3",
   "language": "python",
   "name": "python3"
  },
  "language_info": {
   "codemirror_mode": {
    "name": "ipython",
    "version": 2
   },
   "file_extension": ".py",
   "mimetype": "text/x-python",
   "name": "python",
   "nbconvert_exporter": "python",
   "pygments_lexer": "ipython2",
   "version": "2.7.6"
  }
 },
 "nbformat": 4,
 "nbformat_minor": 5
}
