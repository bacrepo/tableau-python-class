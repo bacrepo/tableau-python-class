{
 "cells": [
  {
   "cell_type": "markdown",
   "id": "b9be10191d75a559",
   "metadata": {},
   "source": [
    "## 1) Pandas read CSV"
   ]
  },
  {
   "cell_type": "code",
   "id": "580adb8a49c92a3a",
   "metadata": {
    "ExecuteTime": {
     "end_time": "2024-08-22T09:57:20.288811Z",
     "start_time": "2024-08-22T09:57:20.280061Z"
    }
   },
   "source": [
    "import pandas as pd\n",
    "df = pd.read_csv(\"demo.csv\")\n",
    "print(df)"
   ],
   "outputs": [
    {
     "name": "stdout",
     "output_type": "stream",
     "text": [
      "  product  revenue  cost\n",
      "0       A       10     7\n",
      "1       B       20    15\n",
      "2       C       30    24\n",
      "3       D       40    34\n",
      "4       E       50    45\n"
     ]
    }
   ],
   "execution_count": 39
  },
  {
   "cell_type": "markdown",
   "id": "420c1f14dc268891",
   "metadata": {},
   "source": [
    "## 2) Pandas read Excel"
   ]
  },
  {
   "cell_type": "code",
   "id": "2412b61c31cc8563",
   "metadata": {
    "ExecuteTime": {
     "end_time": "2024-08-22T09:57:20.395408Z",
     "start_time": "2024-08-22T09:57:20.383829Z"
    }
   },
   "source": [
    "import pandas as pd\n",
    "df = pd.read_excel(\"demo.xlsx\", sheet_name=\"Sheet1\")\n",
    "print(df)"
   ],
   "outputs": [
    {
     "name": "stdout",
     "output_type": "stream",
     "text": [
      "  product  revenue  cost\n",
      "0       A       10     7\n",
      "1       B       20    15\n",
      "2       C       30    24\n",
      "3       D       40    34\n",
      "4       E       50    45\n"
     ]
    }
   ],
   "execution_count": 40
  }
 ],
 "metadata": {
  "kernelspec": {
   "display_name": "Python 3",
   "language": "python",
   "name": "python3"
  },
  "language_info": {
   "codemirror_mode": {
    "name": "ipython",
    "version": 3
   },
   "file_extension": ".py",
   "mimetype": "text/x-python",
   "name": "python",
   "nbconvert_exporter": "python",
   "pygments_lexer": "ipython3",
   "version": "3.12.3"
  }
 },
 "nbformat": 4,
 "nbformat_minor": 5
}
