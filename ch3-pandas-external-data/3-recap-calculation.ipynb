{
 "cells": [
  {
   "metadata": {},
   "cell_type": "markdown",
   "source": "## Numpy",
   "id": "3ba9f564d6d60089"
  },
  {
   "cell_type": "code",
   "id": "initial_id",
   "metadata": {
    "collapsed": true,
    "jupyter": {
     "is_executing": true
    }
   },
   "source": [
    "import numpy as np\n",
    "\n",
    "r = [10,20,30,40,50]\n",
    "c = [7,15,24,34,45]\n",
    "\n",
    "ar = np.array(r)\n",
    "ac = np.array(c)\n",
    "p = ar - ac\n",
    "\n",
    "print(p)"
   ],
   "outputs": [],
   "execution_count": null
  },
  {
   "metadata": {},
   "cell_type": "markdown",
   "source": "## Pandas",
   "id": "82aa0c94fa602b63"
  },
  {
   "metadata": {
    "ExecuteTime": {
     "end_time": "2024-08-20T09:32:15.620966Z",
     "start_time": "2024-08-20T09:32:15.298364Z"
    }
   },
   "cell_type": "code",
   "source": [
    "import pandas as pd\n",
    "\n",
    "r = [10,20,30,40,50]\n",
    "c = [7,15,24,34,45]\n",
    "d = list(zip(r,c))\n",
    "\n",
    "df = pd.DataFrame(d, columns=['revenue','cost'])\n",
    "df['profit'] = df['revenue'] - df['cost']\n",
    "print(df)"
   ],
   "id": "1f7a503f275978ee",
   "outputs": [
    {
     "ename": "NameError",
     "evalue": "name 'pd' is not defined",
     "output_type": "error",
     "traceback": [
      "\u001B[1;31m---------------------------------------------------------------------------\u001B[0m",
      "\u001B[1;31mNameError\u001B[0m                                 Traceback (most recent call last)",
      "Cell \u001B[1;32mIn[4], line 7\u001B[0m\n\u001B[0;32m      4\u001B[0m c \u001B[38;5;241m=\u001B[39m [\u001B[38;5;241m7\u001B[39m,\u001B[38;5;241m15\u001B[39m,\u001B[38;5;241m24\u001B[39m,\u001B[38;5;241m34\u001B[39m,\u001B[38;5;241m45\u001B[39m]\n\u001B[0;32m      5\u001B[0m d \u001B[38;5;241m=\u001B[39m \u001B[38;5;28mlist\u001B[39m(\u001B[38;5;28mzip\u001B[39m(r,c))\n\u001B[1;32m----> 7\u001B[0m df \u001B[38;5;241m=\u001B[39m pd\u001B[38;5;241m.\u001B[39mDataFrame(d, columns\u001B[38;5;241m=\u001B[39m[\u001B[38;5;124m'\u001B[39m\u001B[38;5;124mrevenue\u001B[39m\u001B[38;5;124m'\u001B[39m,\u001B[38;5;124m'\u001B[39m\u001B[38;5;124mcost\u001B[39m\u001B[38;5;124m'\u001B[39m])\n\u001B[0;32m      8\u001B[0m df[\u001B[38;5;124m'\u001B[39m\u001B[38;5;124mprofit\u001B[39m\u001B[38;5;124m'\u001B[39m] \u001B[38;5;241m=\u001B[39m df[\u001B[38;5;124m'\u001B[39m\u001B[38;5;124mrevenue\u001B[39m\u001B[38;5;124m'\u001B[39m] \u001B[38;5;241m-\u001B[39m df[\u001B[38;5;124m'\u001B[39m\u001B[38;5;124mcost\u001B[39m\u001B[38;5;124m'\u001B[39m]\n\u001B[0;32m      9\u001B[0m \u001B[38;5;28mprint\u001B[39m(df)\n",
      "\u001B[1;31mNameError\u001B[0m: name 'pd' is not defined"
     ]
    }
   ],
   "execution_count": 4
  }
 ],
 "metadata": {
  "kernelspec": {
   "display_name": "Python 3",
   "language": "python",
   "name": "python3"
  },
  "language_info": {
   "codemirror_mode": {
    "name": "ipython",
    "version": 2
   },
   "file_extension": ".py",
   "mimetype": "text/x-python",
   "name": "python",
   "nbconvert_exporter": "python",
   "pygments_lexer": "ipython2",
   "version": "2.7.6"
  }
 },
 "nbformat": 4,
 "nbformat_minor": 5
}
