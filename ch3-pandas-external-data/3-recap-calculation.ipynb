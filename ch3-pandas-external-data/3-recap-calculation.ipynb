{
 "cells": [
  {
   "metadata": {},
   "cell_type": "markdown",
   "source": "## Numpy",
   "id": "3ba9f564d6d60089"
  },
  {
   "cell_type": "code",
   "id": "initial_id",
   "metadata": {
    "collapsed": true,
    "ExecuteTime": {
     "end_time": "2024-08-22T09:57:56.576145Z",
     "start_time": "2024-08-22T09:57:56.572541Z"
    }
   },
   "source": [
    "import numpy as np\n",
    "\n",
    "r = [10,20,30,40,50]\n",
    "c = [7,15,24,34,45]\n",
    "\n",
    "ar = np.array(r)\n",
    "ac = np.array(c)\n",
    "p = ar - ac\n",
    "\n",
    "print(p)"
   ],
   "outputs": [
    {
     "name": "stdout",
     "output_type": "stream",
     "text": [
      "[3 5 6 6 5]\n"
     ]
    }
   ],
   "execution_count": 5
  },
  {
   "metadata": {},
   "cell_type": "markdown",
   "source": "## Pandas",
   "id": "82aa0c94fa602b63"
  },
  {
   "metadata": {
    "ExecuteTime": {
     "end_time": "2024-08-22T09:57:56.664512Z",
     "start_time": "2024-08-22T09:57:56.655450Z"
    }
   },
   "cell_type": "code",
   "source": [
    "import pandas as pd\n",
    "\n",
    "r = [10,20,30,40,50]\n",
    "c = [7,15,24,34,45]\n",
    "d = list(zip(r,c))\n",
    "\n",
    "df = pd.DataFrame(d, columns=['revenue','cost'])\n",
    "df['profit'] = df['revenue'] - df['cost']\n",
    "print(df)"
   ],
   "id": "1f7a503f275978ee",
   "outputs": [
    {
     "name": "stdout",
     "output_type": "stream",
     "text": [
      "   revenue  cost  profit\n",
      "0       10     7       3\n",
      "1       20    15       5\n",
      "2       30    24       6\n",
      "3       40    34       6\n",
      "4       50    45       5\n"
     ]
    }
   ],
   "execution_count": 6
  }
 ],
 "metadata": {
  "kernelspec": {
   "display_name": "Python 3",
   "language": "python",
   "name": "python3"
  },
  "language_info": {
   "codemirror_mode": {
    "name": "ipython",
    "version": 2
   },
   "file_extension": ".py",
   "mimetype": "text/x-python",
   "name": "python",
   "nbconvert_exporter": "python",
   "pygments_lexer": "ipython2",
   "version": "2.7.6"
  }
 },
 "nbformat": 4,
 "nbformat_minor": 5
}
