{
 "cells": [
  {
   "metadata": {},
   "cell_type": "markdown",
   "source": "## 1) Read from demo.csv",
   "id": "375435fb27803f6b"
  },
  {
   "metadata": {
    "ExecuteTime": {
     "end_time": "2024-08-22T09:57:49.746462Z",
     "start_time": "2024-08-22T09:57:49.738477Z"
    }
   },
   "cell_type": "code",
   "source": [
    "import pandas as pd\n",
    "\n",
    "df = pd.read_csv(\"demo.csv\")\n",
    "print(df)\n",
    "\n",
    "df['profit'] = df['revenue'] - df['cost']\n",
    "print(df)"
   ],
   "id": "4b10969233b7701c",
   "outputs": [
    {
     "name": "stdout",
     "output_type": "stream",
     "text": [
      "  product  revenue  cost\n",
      "0       A       10     7\n",
      "1       B       20    15\n",
      "2       C       30    24\n",
      "3       D       40    34\n",
      "4       E       50    45\n",
      "  product  revenue  cost  profit\n",
      "0       A       10     7       3\n",
      "1       B       20    15       5\n",
      "2       C       30    24       6\n",
      "3       D       40    34       6\n",
      "4       E       50    45       5\n"
     ]
    }
   ],
   "execution_count": 13
  },
  {
   "metadata": {},
   "cell_type": "markdown",
   "source": "## 2) Read from sales.csv (More Column)",
   "id": "7e8456566df26998"
  },
  {
   "metadata": {
    "ExecuteTime": {
     "end_time": "2024-08-22T09:57:49.761443Z",
     "start_time": "2024-08-22T09:57:49.746462Z"
    }
   },
   "cell_type": "code",
   "source": [
    "import pandas as pd\n",
    "\n",
    "df = pd.read_csv(\"sales.csv\")\n",
    "print(df)\n",
    "\n",
    "df['profit'] = df['revenue'] - df['cost']\n",
    "print(df)"
   ],
   "id": "5afe076b224a2c1f",
   "outputs": [
    {
     "name": "stdout",
     "output_type": "stream",
     "text": [
      "   product_group product  revenue  cost\n",
      "0  ProductGroup1       A       10     7\n",
      "1  ProductGroup1       B       20    15\n",
      "2  ProductGroup1       C       30    24\n",
      "3  ProductGroup2       D       40    34\n",
      "4  ProductGroup2       E       50    45\n",
      "   product_group product  revenue  cost  profit\n",
      "0  ProductGroup1       A       10     7       3\n",
      "1  ProductGroup1       B       20    15       5\n",
      "2  ProductGroup1       C       30    24       6\n",
      "3  ProductGroup2       D       40    34       6\n",
      "4  ProductGroup2       E       50    45       5\n"
     ]
    }
   ],
   "execution_count": 14
  },
  {
   "cell_type": "code",
   "id": "initial_id",
   "metadata": {
    "collapsed": true,
    "ExecuteTime": {
     "end_time": "2024-08-22T09:57:49.862697Z",
     "start_time": "2024-08-22T09:57:49.853038Z"
    }
   },
   "source": [
    "import pandas as pd\n",
    "\n",
    "df = pd.read_csv(\"sales.csv\")\n",
    "df['profit'] = df['revenue'] - df['cost']\n",
    "print(df)\n",
    "\n",
    "df1 = df.groupby(['product_group'])[['revenue','profit']].sum()\n",
    "print(df1)\n",
    "\n",
    "df1['percent_profit'] = df1['profit'] / df1['revenue']\n",
    "print(df1)"
   ],
   "outputs": [
    {
     "name": "stdout",
     "output_type": "stream",
     "text": [
      "   product_group product  revenue  cost  profit\n",
      "0  ProductGroup1       A       10     7       3\n",
      "1  ProductGroup1       B       20    15       5\n",
      "2  ProductGroup1       C       30    24       6\n",
      "3  ProductGroup2       D       40    34       6\n",
      "4  ProductGroup2       E       50    45       5\n",
      "               revenue  profit\n",
      "product_group                 \n",
      "ProductGroup1       60      14\n",
      "ProductGroup2       90      11\n",
      "               revenue  profit  percent_profit\n",
      "product_group                                 \n",
      "ProductGroup1       60      14        0.233333\n",
      "ProductGroup2       90      11        0.122222\n"
     ]
    }
   ],
   "execution_count": 15
  }
 ],
 "metadata": {
  "kernelspec": {
   "display_name": "Python 3",
   "language": "python",
   "name": "python3"
  },
  "language_info": {
   "codemirror_mode": {
    "name": "ipython",
    "version": 2
   },
   "file_extension": ".py",
   "mimetype": "text/x-python",
   "name": "python",
   "nbconvert_exporter": "python",
   "pygments_lexer": "ipython2",
   "version": "2.7.6"
  }
 },
 "nbformat": 4,
 "nbformat_minor": 5
}
