{
 "cells": [
  {
   "cell_type": "code",
   "id": "initial_id",
   "metadata": {
    "collapsed": true,
    "ExecuteTime": {
     "end_time": "2024-08-20T09:24:04.394953Z",
     "start_time": "2024-08-20T09:24:03.949188Z"
    }
   },
   "source": [
    "import pandas as pd\n",
    "\n",
    "df = pd.read_excel(\"sales.xlsx\", sheet_name=\"Sheet1\")\n",
    "df['profit'] = df['revenue'] - df['cost']\n",
    "\n",
    "df1 = df.groupby(['product_group'])[['revenue','profit']].sum()\n",
    "print(df1)\n",
    "df1['percent_profit'] = df1['profit'] / df1['revenue']\n",
    "print(df1)"
   ],
   "outputs": [
    {
     "name": "stdout",
     "output_type": "stream",
     "text": [
      "               revenue  profit\n",
      "product_group                 \n",
      "Group1              60      14\n",
      "Group2              90      11\n",
      "               revenue  profit  percent_profit\n",
      "product_group                                 \n",
      "Group1              60      14        0.233333\n",
      "Group2              90      11        0.122222\n"
     ]
    }
   ],
   "execution_count": 1
  },
  {
   "metadata": {
    "ExecuteTime": {
     "end_time": "2024-08-20T09:24:36.983582Z",
     "start_time": "2024-08-20T09:24:36.972550Z"
    }
   },
   "cell_type": "code",
   "source": [
    "import pandas as pd\n",
    "\n",
    "df = pd.read_excel(\"sales.xlsx\", sheet_name=\"Sheet1\")\n",
    "df['profit'] = df['revenue'] - df['cost']\n",
    "print(df)\n",
    "\n"
   ],
   "id": "6822aec4773e4fdf",
   "outputs": [
    {
     "name": "stdout",
     "output_type": "stream",
     "text": [
      "  product_group product  revenue  cost  profit\n",
      "0        Group1       A       10     7       3\n",
      "1        Group1       B       20    15       5\n",
      "2        Group1       C       30    24       6\n",
      "3        Group2       D       40    34       6\n",
      "4        Group2       E       50    45       5\n"
     ]
    }
   ],
   "execution_count": 2
  },
  {
   "metadata": {},
   "cell_type": "code",
   "outputs": [],
   "execution_count": null,
   "source": "",
   "id": "a695214ca2065e61"
  }
 ],
 "metadata": {
  "kernelspec": {
   "display_name": "Python 3",
   "language": "python",
   "name": "python3"
  },
  "language_info": {
   "codemirror_mode": {
    "name": "ipython",
    "version": 2
   },
   "file_extension": ".py",
   "mimetype": "text/x-python",
   "name": "python",
   "nbconvert_exporter": "python",
   "pygments_lexer": "ipython2",
   "version": "2.7.6"
  }
 },
 "nbformat": 4,
 "nbformat_minor": 5
}
