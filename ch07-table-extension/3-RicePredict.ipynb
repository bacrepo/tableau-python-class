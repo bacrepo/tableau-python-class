{
 "cells": [
  {
   "cell_type": "code",
   "id": "initial_id",
   "metadata": {
    "collapsed": true,
    "ExecuteTime": {
     "end_time": "2024-08-28T16:52:43.948436Z",
     "start_time": "2024-08-28T16:52:43.922691Z"
    }
   },
   "source": [
    "import pandas as pd\n",
    "import statsmodels.formula.api as smf\n",
    "\n",
    "df = pd.read_csv(\"./Rice.csv\")\n",
    "print(df)\n",
    "\n",
    "model = smf.ols(formula='Price ~ Item', data=df)\n",
    "\n",
    "fitted_model = model.fit()\n",
    "print(fitted_model.summary())\n",
    "print(fitted_model.params)\n",
    "\n",
    "df['Predict'] = fitted_model.predict(df[['Item']])\n",
    "print(df)"
   ],
   "outputs": [
    {
     "name": "stdout",
     "output_type": "stream",
     "text": [
      "   RecordID  Item  Price\n",
      "0    Rec001     1   30.0\n",
      "1    Rec002     1   30.0\n",
      "2    Rec003     1   30.0\n",
      "3    Rec004     1   30.0\n",
      "4    Rec005     2   35.0\n",
      "5    Rec006     2   35.0\n",
      "6    Rec007     2   35.0\n",
      "7    Rec008     2   35.0\n",
      "8    Rec009     3    NaN\n",
      "9    Rec010     3    NaN\n",
      "10   Rec011     3    NaN\n",
      "11   Rec012     3    NaN\n",
      "                            OLS Regression Results                            \n",
      "==============================================================================\n",
      "Dep. Variable:                  Price   R-squared:                       1.000\n",
      "Model:                            OLS   Adj. R-squared:                  1.000\n",
      "Method:                 Least Squares   F-statistic:                 5.079e+28\n",
      "Date:                Wed, 28 Aug 2024   Prob (F-statistic):           5.15e-85\n",
      "Time:                        23:52:43   Log-Likelihood:                 238.54\n",
      "No. Observations:                   8   AIC:                            -473.1\n",
      "Df Residuals:                       6   BIC:                            -472.9\n",
      "Df Model:                           1                                         \n",
      "Covariance Type:            nonrobust                                         \n",
      "==============================================================================\n",
      "                 coef    std err          t      P>|t|      [0.025      0.975]\n",
      "------------------------------------------------------------------------------\n",
      "Intercept     25.0000   3.51e-14   7.13e+14      0.000      25.000      25.000\n",
      "Item           5.0000   2.22e-14   2.25e+14      0.000       5.000       5.000\n",
      "==============================================================================\n",
      "Omnibus:                        9.677   Durbin-Watson:                   0.019\n",
      "Prob(Omnibus):                  0.008   Jarque-Bera (JB):                1.333\n",
      "Skew:                           0.000   Prob(JB):                        0.513\n",
      "Kurtosis:                       1.000   Cond. No.                         6.85\n",
      "==============================================================================\n",
      "\n",
      "Notes:\n",
      "[1] Standard Errors assume that the covariance matrix of the errors is correctly specified.\n",
      "Intercept    25.0\n",
      "Item          5.0\n",
      "dtype: float64\n",
      "   RecordID  Item  Price  Predict\n",
      "0    Rec001     1   30.0     30.0\n",
      "1    Rec002     1   30.0     30.0\n",
      "2    Rec003     1   30.0     30.0\n",
      "3    Rec004     1   30.0     30.0\n",
      "4    Rec005     2   35.0     35.0\n",
      "5    Rec006     2   35.0     35.0\n",
      "6    Rec007     2   35.0     35.0\n",
      "7    Rec008     2   35.0     35.0\n",
      "8    Rec009     3    NaN     40.0\n",
      "9    Rec010     3    NaN     40.0\n",
      "10   Rec011     3    NaN     40.0\n",
      "11   Rec012     3    NaN     40.0\n"
     ]
    },
    {
     "name": "stderr",
     "output_type": "stream",
     "text": [
      "C:\\Dev\\Miniconda3\\Lib\\site-packages\\scipy\\stats\\_axis_nan_policy.py:531: UserWarning: kurtosistest only valid for n>=20 ... continuing anyway, n=8\n",
      "  res = hypotest_fun_out(*samples, **kwds)\n"
     ]
    }
   ],
   "execution_count": 3
  },
  {
   "metadata": {},
   "cell_type": "code",
   "outputs": [],
   "execution_count": null,
   "source": "",
   "id": "b474fef126c84c73"
  }
 ],
 "metadata": {
  "kernelspec": {
   "display_name": "Python 3",
   "language": "python",
   "name": "python3"
  },
  "language_info": {
   "codemirror_mode": {
    "name": "ipython",
    "version": 2
   },
   "file_extension": ".py",
   "mimetype": "text/x-python",
   "name": "python",
   "nbconvert_exporter": "python",
   "pygments_lexer": "ipython2",
   "version": "2.7.6"
  }
 },
 "nbformat": 4,
 "nbformat_minor": 5
}
