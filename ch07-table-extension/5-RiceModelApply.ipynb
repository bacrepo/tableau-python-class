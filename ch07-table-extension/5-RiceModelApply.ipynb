{
 "cells": [
  {
   "cell_type": "code",
   "id": "initial_id",
   "metadata": {
    "collapsed": true,
    "ExecuteTime": {
     "end_time": "2024-08-28T16:53:14.609169Z",
     "start_time": "2024-08-28T16:53:14.595146Z"
    }
   },
   "source": [
    "import pandas as pd\n",
    "from joblib import load\n",
    "df = pd.read_csv(\"./Rice_Target.csv\")\n",
    "loaded_model = load('RiceModel.model')\n",
    "\n",
    "df['Predict'] = loaded_model.predict(df)\n",
    "print(df)\n"
   ],
   "outputs": [
    {
     "name": "stdout",
     "output_type": "stream",
     "text": [
      "  RecordID  Item  Price  Predict\n",
      "0   Rec001     1   30.0     30.0\n",
      "1   Rec002     1   30.0     30.0\n",
      "2   Rec003     1   30.0     30.0\n",
      "3   Rec004     1   30.0     30.0\n",
      "4   Rec005     2   35.0     35.0\n",
      "5   Rec006     2   35.0     35.0\n",
      "6   Rec007     2   35.0     35.0\n",
      "7   Rec008     2   35.0     35.0\n",
      "8   Rec009     3    NaN     40.0\n",
      "9   Rec010     4    NaN     45.0\n"
     ]
    }
   ],
   "execution_count": 10
  },
  {
   "metadata": {
    "ExecuteTime": {
     "end_time": "2024-08-28T16:53:14.699151Z",
     "start_time": "2024-08-28T16:53:14.695825Z"
    }
   },
   "cell_type": "code",
   "source": "",
   "id": "eabf901e73cc7a91",
   "outputs": [],
   "execution_count": null
  }
 ],
 "metadata": {
  "kernelspec": {
   "display_name": "Python 3",
   "language": "python",
   "name": "python3"
  },
  "language_info": {
   "codemirror_mode": {
    "name": "ipython",
    "version": 2
   },
   "file_extension": ".py",
   "mimetype": "text/x-python",
   "name": "python",
   "nbconvert_exporter": "python",
   "pygments_lexer": "ipython2",
   "version": "2.7.6"
  }
 },
 "nbformat": 4,
 "nbformat_minor": 5
}
